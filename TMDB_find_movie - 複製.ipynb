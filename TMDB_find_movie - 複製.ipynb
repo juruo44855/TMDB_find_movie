{
 "cells": [
  {
   "cell_type": "code",
   "execution_count": 16,
   "id": "6e845b71-f742-4ea0-b3e7-6b5785a45521",
   "metadata": {},
   "outputs": [
    {
     "name": "stdout",
     "output_type": "stream",
     "text": [
      "熱門前 10 電影:\n",
      "1. 奪命鯊機\n",
      "2. Rebel Moon — 第 2 部：烙印之人\n",
      "3. 哥吉拉與金剛：新帝國\n",
      "4. 功夫熊貓 4\n",
      "5. 沙丘：第二部\n",
      "6. 鬼聖胎\n",
      "7. 第八聯隊\n",
      "8. 三劍客之米萊狄\n",
      "9. 極限長征\n",
      "10. Damaged\n"
     ]
    }
   ],
   "source": [
    "import requests\n",
    "\n",
    "def get_popular_movies(api_key):\n",
    "    url = f\"https://api.themoviedb.org/3/movie/popular?api_key={api_key}&language=zh-TW&page=1\"\n",
    "    response = requests.get(url)\n",
    "    data = response.json()\n",
    "    if 'results' in data:\n",
    "        movies = data['results']\n",
    "        return [movie['title'] for movie in movies[:10]]\n",
    "    else:\n",
    "        print(\"無法獲取熱門電影。\")\n",
    "        return []\n",
    "\n",
    "def main():\n",
    "    # 將 'YOUR_API_KEY' 替換為您的 TMDB API 金鑰\n",
    "    api_key = 'YOUR_API_KEY'\n",
    "    popular_movies = get_popular_movies(api_key)\n",
    "    if popular_movies:\n",
    "        print(\"熱門前 10 電影:\")\n",
    "        for idx, movie in enumerate(popular_movies, 1):\n",
    "            print(f\"{idx}. {movie}\")\n",
    "    else:\n",
    "        print(\"找不到熱門電影。\")\n",
    "\n",
    "if __name__ == \"__main__\":\n",
    "    main()\n"
   ]
  },
  {
   "cell_type": "code",
   "execution_count": null,
   "id": "ed27a55d-2df0-43bc-8b1d-452727b6fa61",
   "metadata": {},
   "outputs": [],
   "source": []
  }
 ],
 "metadata": {
  "kernelspec": {
   "display_name": "Python 3 (ipykernel)",
   "language": "python",
   "name": "python3"
  },
  "language_info": {
   "codemirror_mode": {
    "name": "ipython",
    "version": 3
   },
   "file_extension": ".py",
   "mimetype": "text/x-python",
   "name": "python",
   "nbconvert_exporter": "python",
   "pygments_lexer": "ipython3",
   "version": "3.11.7"
  }
 },
 "nbformat": 4,
 "nbformat_minor": 5
}
